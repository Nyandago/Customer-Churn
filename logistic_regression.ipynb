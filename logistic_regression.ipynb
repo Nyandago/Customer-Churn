{
 "cells": [
  {
   "cell_type": "code",
   "execution_count": null,
   "metadata": {},
   "outputs": [],
   "source": [
    "# What we have here is an exercise to try and understand how we can\n",
    "# use Machine Learning to predict whether or not a customer is about to leave your company (otherwise known as Churn). \n",
    "\n",
    "# These are the three parts of our exercise :\n",
    "# Part 1- Data Cleaning Formatting the data so that our predictive algorithm can understand it.\n",
    "# Part 2- Data Learning We give the data to our algorithm for it to learn from it, find the hidden patterns and make accurate predictions.\n",
    "# Part 3- Data Predicting We use our now trained model to make predictions on our current customers and take the corresponding action.\n",
    "\n"
   ]
  },
  {
   "cell_type": "code",
   "execution_count": 2,
   "metadata": {},
   "outputs": [],
   "source": [
    "import pandas as pd #Pandas is the most popular library for manipulating data. Think of it as an Excel but a million times faster and more practical.\n",
    "import numpy as np # This library allows to easily carry out simple and complex mathematical operations.\n",
    "import matplotlib.pyplot as plt #Allows us to plot data, create graphs and visualize data. Perfect for your Powerpoint slides ;)\n",
    "import sklearn #The one and only. This amazing library holds all the secrets. Containing powerful algorithms packed in a single line of code, this is where the magic will happen.\n",
    "import sklearn.model_selection # more of sklearn. It is a big library, but trust me it is worth it.\n",
    "import sklearn.preprocessing \n",
    "from sklearn.preprocessing import LabelEncoder,OneHotEncoder\n",
    "from sklearn.preprocessing import StandardScaler\n",
    "from sklearn.model_selection import train_test_split\n",
    "from sklearn.metrics import r2_score, explained_variance_score,mean_absolute_error,mean_squared_error,precision_score,recall_score, accuracy_score,f1_score\n",
    "from sklearn.utils import shuffle\n",
    "import random # Allows us to call random numbers, occasionally very useful.\n",
    "import pprint#Allows us to neatly display text\n",
    "from collections import OrderedDict"
   ]
  }
 ],
 "metadata": {
  "kernelspec": {
   "display_name": "Python 3",
   "language": "python",
   "name": "python3"
  },
  "language_info": {
   "codemirror_mode": {
    "name": "ipython",
    "version": 3
   },
   "file_extension": ".py",
   "mimetype": "text/x-python",
   "name": "python",
   "nbconvert_exporter": "python",
   "pygments_lexer": "ipython3",
   "version": "3.11.7"
  }
 },
 "nbformat": 4,
 "nbformat_minor": 2
}
